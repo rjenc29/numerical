{
 "cells": [
  {
   "cell_type": "code",
   "execution_count": 6,
   "metadata": {},
   "outputs": [
    {
     "name": "stdout",
     "output_type": "stream",
     "text": [
      "\n",
      " 8192 x 8192 matmul took: 0.27 sec, 4139.07 G ops/sec\n"
     ]
    }
   ],
   "source": [
    "import os\n",
    "import sys\n",
    "#os.environ[\"CUDA_VISIBLE_DEVICES\"]=\"1\"\n",
    "import tensorflow as tf\n",
    "import time\n",
    "\n",
    "n = 8192\n",
    "dtype = tf.float32\n",
    "with tf.device(\"/gpu:0\"):\n",
    "    matrix1 = tf.Variable(tf.ones((n, n), dtype=dtype))\n",
    "    matrix2 = tf.Variable(tf.ones((n, n), dtype=dtype))\n",
    "    product = tf.matmul(matrix1, matrix2)\n",
    "\n",
    "\n",
    "# avoid optimizing away redundant nodes\n",
    "config = tf.ConfigProto(graph_options=tf.GraphOptions(optimizer_options=tf.OptimizerOptions(opt_level=tf.OptimizerOptions.L0)))\n",
    "sess = tf.Session(config=config)\n",
    "\n",
    "sess.run(tf.global_variables_initializer())\n",
    "iters = 10\n",
    "\n",
    "# pre-warming\n",
    "sess.run(product.op)\n",
    "\n",
    "start = time.time()\n",
    "for i in range(iters):\n",
    "  sess.run(product.op)\n",
    "end = time.time()\n",
    "ops = n**3 + (n-1)*n**2 # n^2*(n-1) additions, n^3 multiplications\n",
    "elapsed = (end - start)\n",
    "rate = iters*ops/elapsed/10**9\n",
    "print('\\n %d x %d matmul took: %.2f sec, %.2f G ops/sec' % (n, n,\n",
    "                                                            elapsed/iters,\n",
    "                                                            rate,))"
   ]
  },
  {
   "cell_type": "code",
   "execution_count": 3,
   "metadata": {
    "collapsed": true
   },
   "outputs": [],
   "source": [
    "#https://stackoverflow.com/questions/41804380/testing-gpu-with-tensorflow-matrix-multiplication"
   ]
  },
  {
   "cell_type": "code",
   "execution_count": 4,
   "metadata": {
    "collapsed": true
   },
   "outputs": [],
   "source": [
    "#https://github.com/yaroslavvb/stuff/blob/master/gpu-memory-transfer.ipynb"
   ]
  },
  {
   "cell_type": "code",
   "execution_count": 5,
   "metadata": {
    "collapsed": true
   },
   "outputs": [],
   "source": [
    "#https://github.com/yaroslavvb/stuff/blob/master/gpu_svd_bench.py"
   ]
  },
  {
   "cell_type": "code",
   "execution_count": 10,
   "metadata": {},
   "outputs": [],
   "source": [
    "import numpy as np\n",
    "\n",
    "a = np.ones(8192*8192).astype(np.float32).reshape(8192, 8192)\n",
    "b = a.copy()"
   ]
  },
  {
   "cell_type": "code",
   "execution_count": 11,
   "metadata": {},
   "outputs": [
    {
     "name": "stdout",
     "output_type": "stream",
     "text": [
      "5.75 s ± 99.9 ms per loop (mean ± std. dev. of 7 runs, 1 loop each)\n"
     ]
    }
   ],
   "source": [
    "%timeit a @ b"
   ]
  },
  {
   "cell_type": "code",
   "execution_count": null,
   "metadata": {
    "collapsed": true
   },
   "outputs": [],
   "source": []
  }
 ],
 "metadata": {
  "kernelspec": {
   "display_name": "Python 3",
   "language": "python",
   "name": "python3"
  },
  "language_info": {
   "codemirror_mode": {
    "name": "ipython",
    "version": 3
   },
   "file_extension": ".py",
   "mimetype": "text/x-python",
   "name": "python",
   "nbconvert_exporter": "python",
   "pygments_lexer": "ipython3",
   "version": "3.6.1"
  }
 },
 "nbformat": 4,
 "nbformat_minor": 2
}
