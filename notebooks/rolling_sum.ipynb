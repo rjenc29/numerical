{
 "cells": [
  {
   "cell_type": "markdown",
   "metadata": {},
   "source": [
    "# Rolling Sum"
   ]
  },
  {
   "cell_type": "markdown",
   "metadata": {},
   "source": [
    "**TL;DR** This notebook demonstrates the performance improvement of using a numba JIT compiled algorithm for calculating rolling sum over the Pandas equivalent for some sample data."
   ]
  },
  {
   "cell_type": "code",
   "execution_count": 1,
   "metadata": {
    "collapsed": true
   },
   "outputs": [],
   "source": [
    "from numba import jit\n",
    "import pandas as pd\n",
    "import numpy as np\n",
    "import time\n",
    "\n",
    "%matplotlib inline\n",
    "import matplotlib.pyplot as plt\n",
    "import seaborn as sns; sns.set()\n",
    "from matplotlib import rcParams\n",
    "from matplotlib import pyplot as plt\n",
    "rcParams['figure.figsize'] = 16, 8"
   ]
  },
  {
   "cell_type": "code",
   "execution_count": 2,
   "metadata": {
    "collapsed": true
   },
   "outputs": [],
   "source": [
    "x = np.arange(30).astype(float)"
   ]
  },
  {
   "cell_type": "code",
   "execution_count": 3,
   "metadata": {},
   "outputs": [
    {
     "data": {
      "text/plain": [
       "array([ nan,   1.,   2.,   3.,   4.,   5.,  nan,   7.,   8.,   9.,  10.,\n",
       "        11.,  nan,  nan,  nan,  nan,  nan,  nan,  18.,  19.,  20.,  21.,\n",
       "        22.,  23.,  24.,  25.,  26.,  27.,  28.,  29.,  nan])"
      ]
     },
     "execution_count": 3,
     "metadata": {},
     "output_type": "execute_result"
    }
   ],
   "source": [
    "s = pd.Series(x)\n",
    "s[0] = np.nan\n",
    "s[6] = np.nan\n",
    "s[12:18] = np.nan\n",
    "s[-1] = np.nan\n",
    "s.values  # arbitrary but small input data"
   ]
  },
  {
   "cell_type": "code",
   "execution_count": 4,
   "metadata": {},
   "outputs": [
    {
     "data": {
      "text/plain": [
       "array([ nan,  nan,  nan,   6.,   9.,  12.,  nan,  nan,  nan,  24.,  27.,\n",
       "        30.,  nan,  nan,  nan,  nan,  nan,  nan,  nan,  nan,  57.,  60.,\n",
       "        63.,  66.,  69.,  72.,  75.,  78.,  81.,  84.,  nan])"
      ]
     },
     "execution_count": 4,
     "metadata": {},
     "output_type": "execute_result"
    }
   ],
   "source": [
    "s.rolling(window=3).sum().values  # pandas output"
   ]
  },
  {
   "cell_type": "code",
   "execution_count": 5,
   "metadata": {
    "collapsed": true
   },
   "outputs": [],
   "source": [
    "@jit(nopython=True)\n",
    "def rolling_sum(x, window):\n",
    "    \n",
    "    n = x.shape[0]\n",
    "    res = np.empty(n)\n",
    "    \n",
    "    rolling_sum = 0\n",
    "    nans_in_window = 0\n",
    "    \n",
    "    for i in range(n):\n",
    "        data_i = x[i]\n",
    "        _nan_arrived = np.isnan(data_i)\n",
    "        \n",
    "        if _nan_arrived:\n",
    "            nans_in_window = min(window, nans_in_window + 1)\n",
    "        else:\n",
    "            rolling_sum += data_i\n",
    "            \n",
    "        if i >= window:\n",
    "            evict_i = x[i - window]\n",
    "            _evict_nan = np.isnan(evict_i)\n",
    "        \n",
    "            if _evict_nan:\n",
    "                if not _nan_arrived:\n",
    "                    nans_in_window -= 1\n",
    "            else:\n",
    "                rolling_sum -= evict_i\n",
    "\n",
    "            if nans_in_window == 0:\n",
    "                res[i] = rolling_sum\n",
    "                continue\n",
    "\n",
    "        res[i] = np.nan\n",
    "            \n",
    "    return res"
   ]
  },
  {
   "cell_type": "code",
   "execution_count": 6,
   "metadata": {},
   "outputs": [
    {
     "data": {
      "text/plain": [
       "array([ nan,  nan,  nan,   6.,   9.,  12.,  nan,  nan,  nan,  24.,  27.,\n",
       "        30.,  nan,  nan,  nan,  nan,  nan,  nan,  nan,  nan,  57.,  60.,\n",
       "        63.,  66.,  69.,  72.,  75.,  78.,  81.,  84.,  nan])"
      ]
     },
     "execution_count": 6,
     "metadata": {},
     "output_type": "execute_result"
    }
   ],
   "source": [
    "rolling_sum(s.values, 3)  # rolling_sum output"
   ]
  },
  {
   "cell_type": "code",
   "execution_count": 7,
   "metadata": {},
   "outputs": [
    {
     "data": {
      "text/plain": [
       "True"
      ]
     },
     "execution_count": 7,
     "metadata": {},
     "output_type": "execute_result"
    }
   ],
   "source": [
    "a = s.rolling(window=3).sum().values\n",
    "b = rolling_sum(s.values, 3)\n",
    "np.allclose(a, b, equal_nan=True)"
   ]
  },
  {
   "cell_type": "code",
   "execution_count": 14,
   "metadata": {
    "collapsed": true
   },
   "outputs": [],
   "source": [
    "def benchmarks():\n",
    "    \n",
    "    res = []\n",
    "    \n",
    "    for exponent in range(3, 7):\n",
    "        n = 10**exponent\n",
    "        data = np.arange(n).astype(float)\n",
    "        data[3] = np.nan\n",
    "        data[4] = np.nan\n",
    "        data[-1] = np.nan\n",
    "        s = pd.Series(data)\n",
    "        \n",
    "        window = int(max(1000, n * 0.1))  # cap window size at 1,000\n",
    "        \n",
    "        t1 = time.time()\n",
    "        pandas_output = s.rolling(window=window).sum().values\n",
    "        t2 = time.time()\n",
    "        res.append(('pandas', n, (t2 - t1)))\n",
    "    \n",
    "        t1 = time.time()\n",
    "        rsum_output = rolling_sum(s.values, window)\n",
    "        t2 = time.time()\n",
    "        res.append(('rolling_sum', n, (t2 - t1))) \n",
    "        \n",
    "        assert np.allclose(pandas_output, rsum_output, equal_nan=True)\n",
    "        \n",
    "    return res"
   ]
  },
  {
   "cell_type": "code",
   "execution_count": 15,
   "metadata": {},
   "outputs": [
    {
     "data": {
      "text/html": [
       "<div>\n",
       "<style>\n",
       "    .dataframe thead tr:only-child th {\n",
       "        text-align: right;\n",
       "    }\n",
       "\n",
       "    .dataframe thead th {\n",
       "        text-align: left;\n",
       "    }\n",
       "\n",
       "    .dataframe tbody tr th {\n",
       "        vertical-align: top;\n",
       "    }\n",
       "</style>\n",
       "<table border=\"1\" class=\"dataframe\">\n",
       "  <thead>\n",
       "    <tr style=\"text-align: right;\">\n",
       "      <th>fn</th>\n",
       "      <th>pandas</th>\n",
       "      <th>rolling_sum</th>\n",
       "    </tr>\n",
       "    <tr>\n",
       "      <th>population</th>\n",
       "      <th></th>\n",
       "      <th></th>\n",
       "    </tr>\n",
       "  </thead>\n",
       "  <tbody>\n",
       "    <tr>\n",
       "      <th>1000</th>\n",
       "      <td>0.000000</td>\n",
       "      <td>0.000000</td>\n",
       "    </tr>\n",
       "    <tr>\n",
       "      <th>10000</th>\n",
       "      <td>0.982285</td>\n",
       "      <td>0.000000</td>\n",
       "    </tr>\n",
       "    <tr>\n",
       "      <th>100000</th>\n",
       "      <td>3.924847</td>\n",
       "      <td>0.980854</td>\n",
       "    </tr>\n",
       "    <tr>\n",
       "      <th>1000000</th>\n",
       "      <td>48.500061</td>\n",
       "      <td>3.925085</td>\n",
       "    </tr>\n",
       "  </tbody>\n",
       "</table>\n",
       "</div>"
      ],
      "text/plain": [
       "fn             pandas  rolling_sum\n",
       "population                        \n",
       "1000         0.000000     0.000000\n",
       "10000        0.982285     0.000000\n",
       "100000       3.924847     0.980854\n",
       "1000000     48.500061     3.925085"
      ]
     },
     "execution_count": 15,
     "metadata": {},
     "output_type": "execute_result"
    }
   ],
   "source": [
    "data = benchmarks()\n",
    "df = pd.DataFrame(data, columns = ['fn', 'population', 'time (ms)'])\n",
    "\n",
    "df['time (ms)'] = df['time (ms)'].apply(lambda x: x * 1000.) \n",
    "df = pd.pivot_table(df, values='time (ms)', index=['population'], columns=['fn'], aggfunc=np.sum)\n",
    "df"
   ]
  },
  {
   "cell_type": "code",
   "execution_count": 16,
   "metadata": {},
   "outputs": [
    {
     "data": {
      "text/plain": [
       "<matplotlib.text.Text at 0x1c7d83f1358>"
      ]
     },
     "execution_count": 16,
     "metadata": {},
     "output_type": "execute_result"
    },
    {
     "data": {
      "image/png": "[encoded data removed]",
      "text/plain": [
       "<matplotlib.figure.Figure at 0x1c7d83c5048>"
      ]
     },
     "metadata": {},
     "output_type": "display_data"
    }
   ],
   "source": [
    "df.plot(logx=True)\n",
    "plt.ylabel('time (ms)')"
   ]
  },
  {
   "cell_type": "code",
   "execution_count": null,
   "metadata": {
    "collapsed": true
   },
   "outputs": [],
   "source": []
  }
 ],
 "metadata": {
  "kernelspec": {
   "display_name": "Python 3",
   "language": "python",
   "name": "python3"
  },
  "language_info": {
   "codemirror_mode": {
    "name": "ipython",
    "version": 3
   },
   "file_extension": ".py",
   "mimetype": "text/x-python",
   "name": "python",
   "nbconvert_exporter": "python",
   "pygments_lexer": "ipython3",
   "version": "3.6.1"
  }
 },
 "nbformat": 4,
 "nbformat_minor": 2
}
