{
 "cells": [
  {
   "cell_type": "code",
   "execution_count": 14,
   "metadata": {
    "collapsed": true
   },
   "outputs": [],
   "source": [
    "import math\n",
    "import time\n",
    "\n",
    "import numpy as np\n",
    "\n",
    "from numba import cuda\n",
    "\n",
    "\n",
    "@cuda.jit(inline=True, device=True)\n",
    "def cnd_cuda(d):\n",
    "    A1 = 0.31938153\n",
    "    A2 = -0.356563782\n",
    "    A3 = 1.781477937\n",
    "    A4 = -1.821255978\n",
    "    A5 = 1.330274429\n",
    "    RSQRT2PI = 0.39894228040143267793994605993438\n",
    "    K = 1.0 / (1.0 + 0.2316419 * math.fabs(d))\n",
    "    ret_val = (RSQRT2PI * math.exp(-0.5 * d * d) *\n",
    "               (K * (A1 + K * (A2 + K * (A3 + K * (A4 + K * A5))))))\n",
    "    if d > 0:\n",
    "        ret_val = 1.0 - ret_val\n",
    "    return ret_val\n",
    "\n",
    "#https://numba.pydata.org/numba-examples/examples/finance/blackscholes/results.html\n",
    "\n",
    "@cuda.jit\n",
    "def black_scholes_cuda_kernel(callResult, X, T, R, V, S):\n",
    "    i = cuda.threadIdx.x + cuda.blockIdx.x * cuda.blockDim.x\n",
    "    if i >= X.shape[0]:\n",
    "        return\n",
    "    sqrtT = math.sqrt(T[i])\n",
    "    d1 = (math.log(S / X[i]) + (R + 0.5 * V * V) * T[i]) / (V * sqrtT)\n",
    "    d2 = d1 - V * sqrtT\n",
    "    cndd1 = cnd_cuda(d1)\n",
    "    cndd2 = cnd_cuda(d2)\n",
    "\n",
    "    expRT = math.exp((-1. * R) * T[i])\n",
    "    callResult[i] = (S * cndd1 - X[i] * expRT * cndd2)\n",
    "\n",
    "\n",
    "def black_scholes_cuda(optionStrike, optionYears, Riskfree, Volatility, StockPrice):\n",
    "\n",
    "    blockdim = 512, 1\n",
    "    griddim = int(math.ceil(float(len(optionStrike))/blockdim[0])), 1\n",
    "\n",
    "    stream = cuda.stream()\n",
    "\n",
    "    d_callResult = cuda.device_array_like(optionStrike, stream)\n",
    "    d_optionStrike = cuda.to_device(optionStrike, stream)\n",
    "    d_optionYears = cuda.to_device(optionYears, stream)\n",
    "\n",
    "    black_scholes_cuda_kernel[griddim, blockdim, stream](\n",
    "            d_callResult, d_optionStrike,\n",
    "            d_optionYears, Riskfree, Volatility, StockPrice)\n",
    "    callResult = d_callResult.copy_to_host(stream=stream)\n",
    "    stream.synchronize()\n",
    "\n",
    "    return callResult"
   ]
  },
  {
   "cell_type": "code",
   "execution_count": 15,
   "metadata": {
    "collapsed": true
   },
   "outputs": [],
   "source": [
    "optionStrike = np.linspace(95, 100, 1000000).astype(np.float32)"
   ]
  },
  {
   "cell_type": "code",
   "execution_count": 16,
   "metadata": {
    "collapsed": true
   },
   "outputs": [],
   "source": [
    "optionYears = np.linspace(0.01, 2, 1000000).astype(np.float32)"
   ]
  },
  {
   "cell_type": "code",
   "execution_count": 17,
   "metadata": {},
   "outputs": [],
   "source": [
    "StockPrice = 101.1"
   ]
  },
  {
   "cell_type": "code",
   "execution_count": 18,
   "metadata": {
    "collapsed": true
   },
   "outputs": [],
   "source": [
    "Riskfree = 0.02"
   ]
  },
  {
   "cell_type": "code",
   "execution_count": 19,
   "metadata": {
    "collapsed": true
   },
   "outputs": [],
   "source": [
    "Volatility = 0.1"
   ]
  },
  {
   "cell_type": "code",
   "execution_count": 20,
   "metadata": {},
   "outputs": [],
   "source": [
    "a = black_scholes_cuda(optionStrike, optionYears, Riskfree, Volatility, StockPrice)"
   ]
  },
  {
   "cell_type": "code",
   "execution_count": 21,
   "metadata": {},
   "outputs": [
    {
     "data": {
      "text/plain": [
       "(1000000,)"
      ]
     },
     "execution_count": 21,
     "metadata": {},
     "output_type": "execute_result"
    }
   ],
   "source": [
    "a.shape"
   ]
  },
  {
   "cell_type": "code",
   "execution_count": 22,
   "metadata": {},
   "outputs": [],
   "source": [
    "#b.shape"
   ]
  },
  {
   "cell_type": "code",
   "execution_count": 25,
   "metadata": {},
   "outputs": [
    {
     "name": "stdout",
     "output_type": "stream",
     "text": [
      "100 loops, best of 3: 9.41 ms per loop\n"
     ]
    }
   ],
   "source": [
    "%timeit black_scholes_cuda(optionStrike, optionYears, Riskfree, Volatility, StockPrice)"
   ]
  },
  {
   "cell_type": "code",
   "execution_count": 26,
   "metadata": {},
   "outputs": [
    {
     "data": {
      "text/plain": [
       "125.15644555694617"
      ]
     },
     "execution_count": 26,
     "metadata": {},
     "output_type": "execute_result"
    }
   ],
   "source": [
    "1/0.00799  #million per second"
   ]
  },
  {
   "cell_type": "code",
   "execution_count": null,
   "metadata": {
    "collapsed": true
   },
   "outputs": [],
   "source": []
  }
 ],
 "metadata": {
  "kernelspec": {
   "display_name": "Python 3",
   "language": "python",
   "name": "python3"
  },
  "language_info": {
   "codemirror_mode": {
    "name": "ipython",
    "version": 3
   },
   "file_extension": ".py",
   "mimetype": "text/x-python",
   "name": "python",
   "nbconvert_exporter": "python",
   "pygments_lexer": "ipython3",
   "version": "3.6.1"
  }
 },
 "nbformat": 4,
 "nbformat_minor": 2
}
