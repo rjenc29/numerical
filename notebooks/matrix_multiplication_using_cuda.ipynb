{
 "cells": [
  {
   "cell_type": "markdown",
   "metadata": {},
   "source": [
    "# Experiements using cuda to accelerate matrix multiplication"
   ]
  },
  {
   "cell_type": "code",
   "execution_count": 1,
   "metadata": {
    "collapsed": true
   },
   "outputs": [],
   "source": [
    "from __future__ import division\n",
    "from numba import cuda, float32\n",
    "import numpy\n",
    "import math\n",
    "import time\n",
    "\n",
    "# Controls threads per block and shared memory usage.\n",
    "# The computation will be done on blocks of TPBxTPB elements.\n",
    "TPB = 16"
   ]
  },
  {
   "cell_type": "code",
   "execution_count": 2,
   "metadata": {},
   "outputs": [
    {
     "data": {
      "text/plain": [
       "2048"
      ]
     },
     "execution_count": 2,
     "metadata": {},
     "output_type": "execute_result"
    }
   ],
   "source": [
    "n = 2**11  # we'll use square matrices\n",
    "n"
   ]
  },
  {
   "cell_type": "code",
   "execution_count": 3,
   "metadata": {
    "collapsed": true
   },
   "outputs": [],
   "source": [
    "A = numpy.full((n, n), 1, numpy.float32)  # both unit matrices\n",
    "B = numpy.full((n, n), 1, numpy.float32) "
   ]
  },
  {
   "cell_type": "code",
   "execution_count": 4,
   "metadata": {},
   "outputs": [
    {
     "name": "stdout",
     "output_type": "stream",
     "text": [
      "10 loops, best of 3: 72.5 ms per loop\n"
     ]
    },
    {
     "data": {
      "text/plain": [
       "array([[ 2048.,  2048.,  2048., ...,  2048.,  2048.,  2048.],\n",
       "       [ 2048.,  2048.,  2048., ...,  2048.,  2048.,  2048.],\n",
       "       [ 2048.,  2048.,  2048., ...,  2048.,  2048.,  2048.],\n",
       "       ..., \n",
       "       [ 2048.,  2048.,  2048., ...,  2048.,  2048.,  2048.],\n",
       "       [ 2048.,  2048.,  2048., ...,  2048.,  2048.,  2048.],\n",
       "       [ 2048.,  2048.,  2048., ...,  2048.,  2048.,  2048.]], dtype=float32)"
      ]
     },
     "execution_count": 4,
     "metadata": {},
     "output_type": "execute_result"
    }
   ],
   "source": [
    "%timeit A @ B  # raw numpy\n",
    "A @ B"
   ]
  },
  {
   "cell_type": "code",
   "execution_count": 5,
   "metadata": {},
   "outputs": [
    {
     "name": "stdout",
     "output_type": "stream",
     "text": [
      "GPU time - cold (ms): 176.433\n",
      "[[ 2048.  2048.  2048. ...,  2048.  2048.  2048.]\n",
      " [ 2048.  2048.  2048. ...,  2048.  2048.  2048.]\n",
      " [ 2048.  2048.  2048. ...,  2048.  2048.  2048.]\n",
      " ..., \n",
      " [ 2048.  2048.  2048. ...,  2048.  2048.  2048.]\n",
      " [ 2048.  2048.  2048. ...,  2048.  2048.  2048.]\n",
      " [ 2048.  2048.  2048. ...,  2048.  2048.  2048.]]\n",
      "\n",
      "GPU time - warm (ms): 0.395\n",
      "[[ 2048.  2048.  2048. ...,  2048.  2048.  2048.]\n",
      " [ 2048.  2048.  2048. ...,  2048.  2048.  2048.]\n",
      " [ 2048.  2048.  2048. ...,  2048.  2048.  2048.]\n",
      " ..., \n",
      " [ 2048.  2048.  2048. ...,  2048.  2048.  2048.]\n",
      " [ 2048.  2048.  2048. ...,  2048.  2048.  2048.]\n",
      " [ 2048.  2048.  2048. ...,  2048.  2048.  2048.]]\n"
     ]
    }
   ],
   "source": [
    "# naive kernel\n",
    "@cuda.jit\n",
    "def matmul(A, B, C):\n",
    "    \"\"\"Perform matrix multiplication of C = A * B\n",
    "    \"\"\"\n",
    "    row, col = cuda.grid(2)\n",
    "    if row < C.shape[0] and col < C.shape[1]:\n",
    "        tmp = 0.\n",
    "        for k in range(A.shape[1]):\n",
    "            tmp += A[row, k] * B[k, col]\n",
    "        C[row, col] = tmp\n",
    "\n",
    "# Copy the arrays to the device\n",
    "A_global_mem = cuda.to_device(A)\n",
    "B_global_mem = cuda.to_device(B)\n",
    "\n",
    "# Allocate memory on the device for the result\n",
    "C_global_mem = cuda.device_array(A.shape)\n",
    "\n",
    "# Configure the blocks\n",
    "threadsperblock = (TPB, TPB)\n",
    "blockspergrid_x = int(math.ceil(A.shape[0] / threadsperblock[0]))\n",
    "blockspergrid_y = int(math.ceil(B.shape[1] / threadsperblock[1]))\n",
    "blockspergrid = (blockspergrid_x, blockspergrid_y)\n",
    "\n",
    "# Start the kernel \n",
    "t1 = time.clock()\n",
    "matmul[blockspergrid, threadsperblock](A_global_mem, B_global_mem, C_global_mem)\n",
    "t2 = time.clock()\n",
    "\n",
    "# Copy the result back to the host\n",
    "C = C_global_mem.copy_to_host()\n",
    "\n",
    "print('GPU time - cold (ms): {0:,.3f}'.format(1000*(t2 - t1)))\n",
    "print(C)\n",
    "\n",
    "C_global_mem = cuda.device_array(A.shape)\n",
    "t1 = time.clock()\n",
    "matmul[blockspergrid, threadsperblock](A_global_mem, B_global_mem, C_global_mem)\n",
    "t2 = time.clock()\n",
    "\n",
    "print('\\nGPU time - warm (ms): {0:,.3f}'.format(1000*(t2 - t1)))\n",
    "\n",
    "res = C_global_mem.copy_to_host()\n",
    "print(C)"
   ]
  },
  {
   "cell_type": "code",
   "execution_count": 6,
   "metadata": {},
   "outputs": [
    {
     "name": "stdout",
     "output_type": "stream",
     "text": [
      "GPU time - cold (ms): 174.451\n",
      "[[ 2048.  2048.  2048. ...,  2048.  2048.  2048.]\n",
      " [ 2048.  2048.  2048. ...,  2048.  2048.  2048.]\n",
      " [ 2048.  2048.  2048. ...,  2048.  2048.  2048.]\n",
      " ..., \n",
      " [ 2048.  2048.  2048. ...,  2048.  2048.  2048.]\n",
      " [ 2048.  2048.  2048. ...,  2048.  2048.  2048.]\n",
      " [ 2048.  2048.  2048. ...,  2048.  2048.  2048.]]\n",
      "\n",
      "GPU time - warm (ms): 0.358\n",
      "[[ 2048.  2048.  2048. ...,  2048.  2048.  2048.]\n",
      " [ 2048.  2048.  2048. ...,  2048.  2048.  2048.]\n",
      " [ 2048.  2048.  2048. ...,  2048.  2048.  2048.]\n",
      " ..., \n",
      " [ 2048.  2048.  2048. ...,  2048.  2048.  2048.]\n",
      " [ 2048.  2048.  2048. ...,  2048.  2048.  2048.]\n",
      " [ 2048.  2048.  2048. ...,  2048.  2048.  2048.]]\n"
     ]
    }
   ],
   "source": [
    "# revised kernel with more efficient sharing of memory\n",
    "@cuda.jit\n",
    "def fast_matmul(A, B, C):\n",
    "    \"\"\"\n",
    "    Perform matrix multiplication of C = A * B\n",
    "    Each thread computes one element of the result matrix C\n",
    "    \"\"\"\n",
    "\n",
    "    # Define an array in the shared memory\n",
    "    # The size and type of the arrays must be known at compile time\n",
    "    sA = cuda.shared.array(shape=(TPB, TPB), dtype=float32)\n",
    "    sB = cuda.shared.array(shape=(TPB, TPB), dtype=float32)\n",
    "\n",
    "    x, y = cuda.grid(2)\n",
    "    \n",
    "    tx = cuda.threadIdx.x\n",
    "    ty = cuda.threadIdx.y\n",
    "    \n",
    "    if x >= C.shape[0] and y >= C.shape[1]:\n",
    "        # Quit if (x, y) is outside of valid C boundary\n",
    "        return\n",
    "\n",
    "    # Each thread computes one element in the result matrix.\n",
    "    # The dot product is chunked into dot products of TPB-long vectors.\n",
    "    tmp = 0.\n",
    "    for i in range(int(A.shape[1] / TPB)):\n",
    "        # Preload data into shared memory\n",
    "        sA[tx, ty] = A[x, ty + i * TPB]\n",
    "        sB[tx, ty] = B[tx + i * TPB, y]\n",
    "\n",
    "        # Wait until all threads finish preloading\n",
    "        cuda.syncthreads()\n",
    "\n",
    "        # Computes partial product on the shared memory\n",
    "        for j in range(TPB):\n",
    "            tmp += sA[tx, j] * sB[j, ty]\n",
    "\n",
    "        # Wait until all threads finish computing\n",
    "        cuda.syncthreads()\n",
    "\n",
    "    C[x, y] = tmp\n",
    "\n",
    "A_global_mem = cuda.to_device(A)\n",
    "B_global_mem = cuda.to_device(B)\n",
    "C_global_mem = cuda.device_array(A.shape) \n",
    "\n",
    "# Configure the blocks\n",
    "threadsperblock = (TPB, TPB)\n",
    "blockspergrid_x = int(math.ceil(A.shape[0] / threadsperblock[1]))\n",
    "blockspergrid_y = int(math.ceil(B.shape[1] / threadsperblock[0]))\n",
    "blockspergrid = (blockspergrid_x, blockspergrid_y)\n",
    "\n",
    "# Start the kernel \n",
    "t1 = time.clock()\n",
    "fast_matmul[blockspergrid, threadsperblock](A_global_mem, B_global_mem, C_global_mem)\n",
    "t2 = time.clock()\n",
    "\n",
    "res = C_global_mem.copy_to_host()\n",
    "\n",
    "print('GPU time - cold (ms): {0:,.3f}'.format(1000*(t2 - t1)))\n",
    "print(C)\n",
    "\n",
    "C_global_mem = cuda.device_array(A.shape)\n",
    "t1 = time.clock()\n",
    "fast_matmul[blockspergrid, threadsperblock](A_global_mem, B_global_mem, C_global_mem)\n",
    "t2 = time.clock()\n",
    "\n",
    "print('\\nGPU time - warm (ms): {0:,.3f}'.format(1000*(t2 - t1)))\n",
    "\n",
    "res = C_global_mem.copy_to_host()\n",
    "print(C)"
   ]
  }
 ],
 "metadata": {
  "kernelspec": {
   "display_name": "Python 3",
   "language": "python",
   "name": "python3"
  },
  "language_info": {
   "codemirror_mode": {
    "name": "ipython",
    "version": 3
   },
   "file_extension": ".py",
   "mimetype": "text/x-python",
   "name": "python",
   "nbconvert_exporter": "python",
   "pygments_lexer": "ipython3",
   "version": "3.6.1"
  }
 },
 "nbformat": 4,
 "nbformat_minor": 2
}
