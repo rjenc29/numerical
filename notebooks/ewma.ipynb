{
 "cells": [
  {
   "cell_type": "markdown",
   "metadata": {},
   "source": [
    "# Exponential weighted moving average"
   ]
  },
  {
   "cell_type": "markdown",
   "metadata": {},
   "source": [
    "**TL;DR** This notebook demonstrates the performance improvement of using a numba JIT compiled algorithm for calculating exponential weighted moving average over the Pandas equivalent for some sample data."
   ]
  },
  {
   "cell_type": "code",
   "execution_count": 1,
   "metadata": {
    "collapsed": true
   },
   "outputs": [],
   "source": [
    "import numpy as np\n",
    "import pandas as pd\n",
    "from numba import jit\n",
    "import time\n",
    "\n",
    "%matplotlib inline\n",
    "import matplotlib.pyplot as plt\n",
    "import seaborn as sns; sns.set()\n",
    "from matplotlib import rcParams\n",
    "from matplotlib import pyplot as plt\n",
    "rcParams['figure.figsize'] = 16, 8"
   ]
  },
  {
   "cell_type": "code",
   "execution_count": 2,
   "metadata": {
    "collapsed": true
   },
   "outputs": [],
   "source": [
    "@jit(nopython=True)\n",
    "def ewma(data, alpha, adjust, ignore_na):\n",
    "    # More or less a straight port of the corresponding pandas class\n",
    "    \n",
    "    old_wt_factor = 1. - alpha\n",
    "    new_wt = 1. if adjust else alpha\n",
    "    \n",
    "    n = data.shape[0]\n",
    "    output = np.empty(n)  \n",
    "\n",
    "    weighted_avg = data[0]\n",
    "    is_observation = (weighted_avg == weighted_avg)\n",
    "    nobs = int(is_observation)\n",
    "    output[0] = weighted_avg if (nobs >= 1) else np.nan\n",
    "    old_wt = 1.\n",
    "    \n",
    "    for i in range(1, n):\n",
    "        cur = data[i]\n",
    "        is_observation = (cur == cur)\n",
    "        nobs += int(is_observation)\n",
    "        if weighted_avg == weighted_avg:\n",
    "\n",
    "            if is_observation or (not ignore_na):\n",
    "\n",
    "                old_wt *= old_wt_factor\n",
    "                if is_observation:\n",
    "\n",
    "                    if weighted_avg != cur:\n",
    "                        weighted_avg = ((old_wt * weighted_avg) +\n",
    "                                        (new_wt * cur)) / (old_wt + new_wt)\n",
    "                    if adjust:\n",
    "                        old_wt += new_wt\n",
    "                    else:\n",
    "                        old_wt = 1.\n",
    "        elif is_observation:\n",
    "            weighted_avg = cur\n",
    "\n",
    "        output[i] = weighted_avg if (nobs >= 1) else np.nan\n",
    "\n",
    "    return output"
   ]
  },
  {
   "cell_type": "code",
   "execution_count": 3,
   "metadata": {
    "collapsed": true
   },
   "outputs": [],
   "source": [
    "# create some sample data and introduce a few NaNs\n",
    "data = np.arange(1e5) * 1.0\n",
    "data[3] = np.nan\n",
    "data[4] = np.nan"
   ]
  },
  {
   "cell_type": "code",
   "execution_count": 4,
   "metadata": {
    "collapsed": true
   },
   "outputs": [],
   "source": [
    "expected = pd.Series(data).ewm(alpha=0.1, adjust=True, ignore_na=False).mean().values"
   ]
  },
  {
   "cell_type": "code",
   "execution_count": 5,
   "metadata": {
    "collapsed": true
   },
   "outputs": [],
   "source": [
    "output = ewma(data, alpha=0.1, adjust=True, ignore_na=False)"
   ]
  },
  {
   "cell_type": "code",
   "execution_count": 6,
   "metadata": {},
   "outputs": [
    {
     "data": {
      "text/plain": [
       "True"
      ]
     },
     "execution_count": 6,
     "metadata": {},
     "output_type": "execute_result"
    }
   ],
   "source": [
    "np.allclose(expected, output)  # assert output is as per Pandas equivalent"
   ]
  },
  {
   "cell_type": "code",
   "execution_count": 7,
   "metadata": {
    "collapsed": true
   },
   "outputs": [],
   "source": [
    "def benchmarks():\n",
    "    \n",
    "    res = []\n",
    "    \n",
    "    for exponent in range(3, 7):\n",
    "        n = 10**exponent\n",
    "        data = np.arange(n).astype(float)\n",
    "        data[3] = np.nan\n",
    "        data[4] = np.nan\n",
    "        data[-1] = np.nan\n",
    "        s = pd.Series(data)\n",
    "\n",
    "        t1 = time.time()\n",
    "        pandas_output = s.ewm(alpha=0.1, adjust=True, ignore_na=False).mean().values\n",
    "        t2 = time.time()\n",
    "        res.append(('pandas', n, (t2 - t1)))\n",
    "    \n",
    "        t1 = time.time()\n",
    "        ewma_output = ewma(data, alpha=0.1, adjust=True, ignore_na=False)\n",
    "        t2 = time.time()\n",
    "        res.append(('ewma', n, (t2 - t1))) \n",
    "        \n",
    "        assert np.allclose(pandas_output, ewma_output)\n",
    "        \n",
    "    return res"
   ]
  },
  {
   "cell_type": "code",
   "execution_count": 8,
   "metadata": {},
   "outputs": [
    {
     "data": {
      "text/html": [
       "<div>\n",
       "<style>\n",
       "    .dataframe thead tr:only-child th {\n",
       "        text-align: right;\n",
       "    }\n",
       "\n",
       "    .dataframe thead th {\n",
       "        text-align: left;\n",
       "    }\n",
       "\n",
       "    .dataframe tbody tr th {\n",
       "        vertical-align: top;\n",
       "    }\n",
       "</style>\n",
       "<table border=\"1\" class=\"dataframe\">\n",
       "  <thead>\n",
       "    <tr style=\"text-align: right;\">\n",
       "      <th>fn</th>\n",
       "      <th>ewma</th>\n",
       "      <th>pandas</th>\n",
       "    </tr>\n",
       "    <tr>\n",
       "      <th>population</th>\n",
       "      <th></th>\n",
       "      <th></th>\n",
       "    </tr>\n",
       "  </thead>\n",
       "  <tbody>\n",
       "    <tr>\n",
       "      <th>1000</th>\n",
       "      <td>0.000000</td>\n",
       "      <td>1.012325</td>\n",
       "    </tr>\n",
       "    <tr>\n",
       "      <th>10000</th>\n",
       "      <td>0.000000</td>\n",
       "      <td>1.934528</td>\n",
       "    </tr>\n",
       "    <tr>\n",
       "      <th>100000</th>\n",
       "      <td>0.981808</td>\n",
       "      <td>9.813309</td>\n",
       "    </tr>\n",
       "    <tr>\n",
       "      <th>1000000</th>\n",
       "      <td>8.857965</td>\n",
       "      <td>105.378151</td>\n",
       "    </tr>\n",
       "  </tbody>\n",
       "</table>\n",
       "</div>"
      ],
      "text/plain": [
       "fn              ewma      pandas\n",
       "population                      \n",
       "1000        0.000000    1.012325\n",
       "10000       0.000000    1.934528\n",
       "100000      0.981808    9.813309\n",
       "1000000     8.857965  105.378151"
      ]
     },
     "execution_count": 8,
     "metadata": {},
     "output_type": "execute_result"
    }
   ],
   "source": [
    "data = benchmarks()\n",
    "df = pd.DataFrame(data, columns = ['fn', 'population', 'time (ms)'])\n",
    "\n",
    "df['time (ms)'] = df['time (ms)'].apply(lambda x: x * 1000.) \n",
    "df = pd.pivot_table(df, values='time (ms)', index=['population'], columns=['fn'], aggfunc=np.sum)\n",
    "df"
   ]
  },
  {
   "cell_type": "code",
   "execution_count": 9,
   "metadata": {},
   "outputs": [
    {
     "data": {
      "text/plain": [
       "<matplotlib.text.Text at 0x21b5eceb0b8>"
      ]
     },
     "execution_count": 9,
     "metadata": {},
     "output_type": "execute_result"
    },
    {
     "data": {
      "image/png": "[encoded data removed]",
      "text/plain": [
       "<matplotlib.figure.Figure at 0x21b5e789978>"
      ]
     },
     "metadata": {},
     "output_type": "display_data"
    }
   ],
   "source": [
    "df.plot(logx=True)\n",
    "plt.ylabel('time (ms)')"
   ]
  }
 ],
 "metadata": {
  "kernelspec": {
   "display_name": "Python 3",
   "language": "python",
   "name": "python3"
  },
  "language_info": {
   "codemirror_mode": {
    "name": "ipython",
    "version": 3
   },
   "file_extension": ".py",
   "mimetype": "text/x-python",
   "name": "python",
   "nbconvert_exporter": "python",
   "pygments_lexer": "ipython3",
   "version": "3.6.1"
  }
 },
 "nbformat": 4,
 "nbformat_minor": 2
}
