{
 "cells": [
  {
   "cell_type": "markdown",
   "metadata": {},
   "source": [
    "# EWMA"
   ]
  },
  {
   "cell_type": "code",
   "execution_count": 1,
   "metadata": {
    "collapsed": true
   },
   "outputs": [],
   "source": [
    "import numpy as np\n",
    "import pandas as pd\n",
    "from numba import jit"
   ]
  },
  {
   "cell_type": "code",
   "execution_count": 2,
   "metadata": {
    "collapsed": true
   },
   "outputs": [],
   "source": [
    "@jit(nopython=True)\n",
    "def ewma(data, alpha, adjust, ignore_na):\n",
    "    \n",
    "    old_wt_factor = 1. - alpha\n",
    "    new_wt = 1. if adjust else alpha\n",
    "    \n",
    "    n = data.shape[0]\n",
    "    output = np.empty(n)  \n",
    "\n",
    "    weighted_avg = data[0]\n",
    "    is_observation = (weighted_avg == weighted_avg)\n",
    "    nobs = int(is_observation)\n",
    "    output[0] = weighted_avg if (nobs >= 1) else np.nan\n",
    "    old_wt = 1.\n",
    "    \n",
    "    for i in range(1, n):\n",
    "        cur = data[i]\n",
    "        is_observation = (cur == cur)\n",
    "        nobs += int(is_observation)\n",
    "        if weighted_avg == weighted_avg:\n",
    "\n",
    "            if is_observation or (not ignore_na):\n",
    "\n",
    "                old_wt *= old_wt_factor\n",
    "                if is_observation:\n",
    "\n",
    "                    if weighted_avg != cur:\n",
    "                        weighted_avg = ((old_wt * weighted_avg) +\n",
    "                                        (new_wt * cur)) / (old_wt + new_wt)\n",
    "                    if adjust:\n",
    "                        old_wt += new_wt\n",
    "                    else:\n",
    "                        old_wt = 1.\n",
    "        elif is_observation:\n",
    "            weighted_avg = cur\n",
    "\n",
    "        output[i] = weighted_avg if (nobs >= 1) else np.nan\n",
    "\n",
    "    return output"
   ]
  },
  {
   "cell_type": "code",
   "execution_count": 3,
   "metadata": {
    "collapsed": true
   },
   "outputs": [],
   "source": [
    "data = np.arange(1e5) * 1.0\n",
    "data[3] = np.nan\n",
    "data[4] = np.nan"
   ]
  },
  {
   "cell_type": "code",
   "execution_count": 4,
   "metadata": {
    "collapsed": true
   },
   "outputs": [],
   "source": [
    "expected = pd.Series(data).ewm(alpha=0.1, adjust=True, ignore_na=False).mean().values"
   ]
  },
  {
   "cell_type": "code",
   "execution_count": 5,
   "metadata": {
    "collapsed": true
   },
   "outputs": [],
   "source": [
    "output = ewma(data, alpha=0.1, adjust=True, ignore_na=False)"
   ]
  },
  {
   "cell_type": "code",
   "execution_count": 6,
   "metadata": {
    "collapsed": false
   },
   "outputs": [
    {
     "data": {
      "text/plain": [
       "True"
      ]
     },
     "execution_count": 6,
     "metadata": {},
     "output_type": "execute_result"
    }
   ],
   "source": [
    "np.allclose(expected, output)"
   ]
  },
  {
   "cell_type": "code",
   "execution_count": 7,
   "metadata": {
    "collapsed": false
   },
   "outputs": [
    {
     "name": "stdout",
     "output_type": "stream",
     "text": [
      "100 loops, best of 3: 9.16 ms per loop\n"
     ]
    }
   ],
   "source": [
    "%timeit pd.Series(data).ewm(alpha=0.1, adjust=True, ignore_na=False).mean().values"
   ]
  },
  {
   "cell_type": "code",
   "execution_count": 8,
   "metadata": {
    "collapsed": false
   },
   "outputs": [
    {
     "name": "stdout",
     "output_type": "stream",
     "text": [
      "1000 loops, best of 3: 726 µs per loop\n"
     ]
    }
   ],
   "source": [
    "%timeit ewma(data, alpha=0.1, adjust=True, ignore_na=False)"
   ]
  },
  {
   "cell_type": "code",
   "execution_count": null,
   "metadata": {
    "collapsed": true
   },
   "outputs": [],
   "source": []
  }
 ],
 "metadata": {
  "kernelspec": {
   "display_name": "Python 3",
   "language": "python",
   "name": "python3"
  },
  "language_info": {
   "codemirror_mode": {
    "name": "ipython",
    "version": 3
   },
   "file_extension": ".py",
   "mimetype": "text/x-python",
   "name": "python",
   "nbconvert_exporter": "python",
   "pygments_lexer": "ipython3",
   "version": "3.6.0"
  }
 },
 "nbformat": 4,
 "nbformat_minor": 2
}
