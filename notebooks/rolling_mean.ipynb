{
 "cells": [
  {
   "cell_type": "markdown",
   "metadata": {},
   "source": [
    "# Rolling Mean"
   ]
  },
  {
   "cell_type": "markdown",
   "metadata": {},
   "source": [
    "**TL;DR** This notebook demonstrates the performance improvement of using a numba JIT compiled algorithm for calculating rolling mean over the Pandas equivalent for some sample data."
   ]
  },
  {
   "cell_type": "code",
   "execution_count": 1,
   "metadata": {
    "collapsed": true
   },
   "outputs": [],
   "source": [
    "from numba import jit\n",
    "import pandas as pd\n",
    "import numpy as np\n",
    "import time\n",
    "\n",
    "%matplotlib inline\n",
    "import matplotlib.pyplot as plt\n",
    "import seaborn as sns; sns.set()\n",
    "from matplotlib import rcParams\n",
    "from matplotlib import pyplot as plt\n",
    "rcParams['figure.figsize'] = 16, 8\n",
    "\n",
    "import os\n",
    "import sys\n",
    "nb_dir = os.path.split(os.getcwd())[0]\n",
    "if nb_dir not in sys.path:\n",
    "    sys.path.append(nb_dir)"
   ]
  },
  {
   "cell_type": "code",
   "execution_count": 2,
   "metadata": {
    "collapsed": false
   },
   "outputs": [],
   "source": [
    "from utilities.rolling_stats import rolling_mean  # this is the function we're going to test versus pandas"
   ]
  },
  {
   "cell_type": "code",
   "execution_count": 3,
   "metadata": {
    "collapsed": true
   },
   "outputs": [],
   "source": [
    "x = np.arange(30).astype(float)"
   ]
  },
  {
   "cell_type": "code",
   "execution_count": 4,
   "metadata": {
    "collapsed": false
   },
   "outputs": [
    {
     "data": {
      "text/plain": [
       "array([ nan,   1.,   2.,   3.,   4.,   5.,  nan,   7.,   8.,   9.,  10.,\n",
       "        11.,  nan,  nan,  nan,  nan,  nan,  nan,  18.,  19.,  20.,  21.,\n",
       "        22.,  23.,  24.,  25.,  26.,  27.,  28.,  29.,  nan])"
      ]
     },
     "execution_count": 4,
     "metadata": {},
     "output_type": "execute_result"
    }
   ],
   "source": [
    "s = pd.Series(x)\n",
    "s[0] = np.nan\n",
    "s[6] = np.nan\n",
    "s[12:18] = np.nan\n",
    "s[-1] = np.nan\n",
    "s.values  # arbitrary but small input data"
   ]
  },
  {
   "cell_type": "code",
   "execution_count": 5,
   "metadata": {
    "collapsed": false
   },
   "outputs": [
    {
     "data": {
      "text/plain": [
       "array([ nan,  nan,  nan,   2.,   3.,   4.,  nan,  nan,  nan,   8.,   9.,\n",
       "        10.,  nan,  nan,  nan,  nan,  nan,  nan,  nan,  nan,  19.,  20.,\n",
       "        21.,  22.,  23.,  24.,  25.,  26.,  27.,  28.,  nan])"
      ]
     },
     "execution_count": 5,
     "metadata": {},
     "output_type": "execute_result"
    }
   ],
   "source": [
    "s.rolling(window=3).mean().values  # pandas output"
   ]
  },
  {
   "cell_type": "code",
   "execution_count": 6,
   "metadata": {
    "collapsed": false
   },
   "outputs": [
    {
     "data": {
      "text/plain": [
       "array([ nan,  nan,  nan,   2.,   3.,   4.,  nan,  nan,  nan,   8.,   9.,\n",
       "        10.,  nan,  nan,  nan,  nan,  nan,  nan,  nan,  nan,  19.,  20.,\n",
       "        21.,  22.,  23.,  24.,  25.,  26.,  27.,  28.,  nan])"
      ]
     },
     "execution_count": 6,
     "metadata": {},
     "output_type": "execute_result"
    }
   ],
   "source": [
    "rolling_mean(s.values, 3)  # rolling_sum output"
   ]
  },
  {
   "cell_type": "code",
   "execution_count": 7,
   "metadata": {
    "collapsed": false
   },
   "outputs": [
    {
     "data": {
      "text/plain": [
       "True"
      ]
     },
     "execution_count": 7,
     "metadata": {},
     "output_type": "execute_result"
    }
   ],
   "source": [
    "a = s.rolling(window=3).mean().values\n",
    "b = rolling_mean(s.values, 3)\n",
    "np.allclose(a, b, equal_nan=True)"
   ]
  },
  {
   "cell_type": "code",
   "execution_count": 8,
   "metadata": {
    "collapsed": true
   },
   "outputs": [],
   "source": [
    "def benchmarks():\n",
    "    \n",
    "    res = []\n",
    "    \n",
    "    for exponent in range(3, 7):\n",
    "        n = 10**exponent\n",
    "        data = np.arange(n).astype(float)\n",
    "        data[3] = np.nan\n",
    "        data[4] = np.nan\n",
    "        data[-1] = np.nan\n",
    "        s = pd.Series(data)\n",
    "        \n",
    "        window = int(max(1000, n * 0.1))  # cap window size at 1,000\n",
    "        \n",
    "        t1 = time.time()\n",
    "        pandas_output = s.rolling(window=window).mean().values\n",
    "        t2 = time.time()\n",
    "        res.append(('pandas', n, (t2 - t1)))\n",
    "    \n",
    "        t1 = time.time()\n",
    "        rmean_output = rolling_mean(s.values, window)\n",
    "        t2 = time.time()\n",
    "        res.append(('rolling_mean', n, (t2 - t1))) \n",
    "        \n",
    "        assert np.allclose(pandas_output, rmean_output, equal_nan=True)\n",
    "        \n",
    "    return res"
   ]
  },
  {
   "cell_type": "code",
   "execution_count": 9,
   "metadata": {
    "collapsed": false
   },
   "outputs": [
    {
     "data": {
      "text/html": [
       "<div>\n",
       "<style>\n",
       "    .dataframe thead tr:only-child th {\n",
       "        text-align: right;\n",
       "    }\n",
       "\n",
       "    .dataframe thead th {\n",
       "        text-align: left;\n",
       "    }\n",
       "\n",
       "    .dataframe tbody tr th {\n",
       "        vertical-align: top;\n",
       "    }\n",
       "</style>\n",
       "<table border=\"1\" class=\"dataframe\">\n",
       "  <thead>\n",
       "    <tr style=\"text-align: right;\">\n",
       "      <th>fn</th>\n",
       "      <th>pandas</th>\n",
       "      <th>rolling_mean</th>\n",
       "    </tr>\n",
       "    <tr>\n",
       "      <th>population</th>\n",
       "      <th></th>\n",
       "      <th></th>\n",
       "    </tr>\n",
       "  </thead>\n",
       "  <tbody>\n",
       "    <tr>\n",
       "      <th>1000</th>\n",
       "      <td>1.623869</td>\n",
       "      <td>0.031948</td>\n",
       "    </tr>\n",
       "    <tr>\n",
       "      <th>10000</th>\n",
       "      <td>2.737045</td>\n",
       "      <td>0.124931</td>\n",
       "    </tr>\n",
       "    <tr>\n",
       "      <th>100000</th>\n",
       "      <td>11.641979</td>\n",
       "      <td>2.604961</td>\n",
       "    </tr>\n",
       "    <tr>\n",
       "      <th>1000000</th>\n",
       "      <td>114.975929</td>\n",
       "      <td>10.097027</td>\n",
       "    </tr>\n",
       "  </tbody>\n",
       "</table>\n",
       "</div>"
      ],
      "text/plain": [
       "fn              pandas  rolling_mean\n",
       "population                          \n",
       "1000          1.623869      0.031948\n",
       "10000         2.737045      0.124931\n",
       "100000       11.641979      2.604961\n",
       "1000000     114.975929     10.097027"
      ]
     },
     "execution_count": 9,
     "metadata": {},
     "output_type": "execute_result"
    }
   ],
   "source": [
    "data = benchmarks()\n",
    "df = pd.DataFrame(data, columns = ['fn', 'population', 'time (ms)'])\n",
    "\n",
    "df['time (ms)'] = df['time (ms)'].apply(lambda x: x * 1000.) \n",
    "df = pd.pivot_table(df, values='time (ms)', index=['population'], columns=['fn'], aggfunc=np.sum)\n",
    "df"
   ]
  },
  {
   "cell_type": "code",
   "execution_count": 10,
   "metadata": {
    "collapsed": false
   },
   "outputs": [
    {
     "data": {
      "text/plain": [
       "<matplotlib.text.Text at 0x10315fbe0>"
      ]
     },
     "execution_count": 10,
     "metadata": {},
     "output_type": "execute_result"
    },
    {
     "data": {
      "image/png": "[encoded data removed]",
      "text/plain": [
       "<matplotlib.figure.Figure at 0x1125fdda0>"
      ]
     },
     "metadata": {},
     "output_type": "display_data"
    }
   ],
   "source": [
    "df.plot(logx=True)\n",
    "plt.ylabel('time (ms)')"
   ]
  }
 ],
 "metadata": {
  "kernelspec": {
   "display_name": "Python [default]",
   "language": "python",
   "name": "python3"
  },
  "language_info": {
   "codemirror_mode": {
    "name": "ipython",
    "version": 3
   },
   "file_extension": ".py",
   "mimetype": "text/x-python",
   "name": "python",
   "nbconvert_exporter": "python",
   "pygments_lexer": "ipython3",
   "version": "3.5.2"
  }
 },
 "nbformat": 4,
 "nbformat_minor": 2
}
