{
 "cells": [
  {
   "cell_type": "markdown",
   "metadata": {},
   "source": [
    "# Cuda matrix multiplication benchmarks"
   ]
  },
  {
   "cell_type": "code",
   "execution_count": 23,
   "metadata": {
    "collapsed": true
   },
   "outputs": [],
   "source": [
    "import pandas as pd\n",
    "\n",
    "%matplotlib inline\n",
    "import matplotlib.pyplot as plt\n",
    "import seaborn as sns; sns.set()\n",
    "from matplotlib import rcParams\n",
    "from matplotlib import pyplot as plt\n",
    "rcParams['figure.figsize'] = 16, 8"
   ]
  },
  {
   "cell_type": "code",
   "execution_count": 24,
   "metadata": {},
   "outputs": [
    {
     "name": "stdout",
     "output_type": "stream",
     "text": [
      "(1024 x 1024) x (1024 x 1024)\n",
      "CUDA without shared memory: 0.032 s\n",
      "CUDA with shared memory   : 0.046 s\n",
      "NumPy dot product         : 0.025 s\n",
      "(2048 x 2048) x (2048 x 2048)\n",
      "CUDA without shared memory: 0.063 s\n",
      "CUDA with shared memory   : 0.044 s\n",
      "NumPy dot product         : 0.075 s\n",
      "(3072 x 3072) x (3072 x 3072)\n",
      "CUDA without shared memory: 0.089 s\n",
      "CUDA with shared memory   : 0.040 s\n",
      "NumPy dot product         : 0.299 s\n",
      "(4096 x 4096) x (4096 x 4096)\n",
      "CUDA without shared memory: 0.108 s\n",
      "CUDA with shared memory   : 0.034 s\n",
      "NumPy dot product         : 0.691 s\n",
      "(5120 x 5120) x (5120 x 5120)\n",
      "CUDA without shared memory: 0.131 s\n",
      "CUDA with shared memory   : 0.034 s\n",
      "NumPy dot product         : 1.162 s\n",
      "(6144 x 6144) x (6144 x 6144)\n",
      "CUDA without shared memory: 0.160 s\n",
      "CUDA with shared memory   : 0.034 s\n",
      "NumPy dot product         : 1.969 s\n",
      "(7168 x 7168) x (7168 x 7168)\n",
      "CUDA without shared memory: 0.223 s\n",
      "CUDA with shared memory   : 0.037 s\n",
      "NumPy dot product         : 2.574 s\n",
      "(8192 x 8192) x (8192 x 8192)\n",
      "CUDA without shared memory: 0.210 s\n",
      "CUDA with shared memory   : 0.033 s\n",
      "NumPy dot product         : 4.518 s\n",
      "(9216 x 9216) x (9216 x 9216)\n",
      "CUDA without shared memory: 0.242 s\n",
      "CUDA with shared memory   : 0.033 s\n",
      "NumPy dot product         : 5.160 s\n",
      "(10240 x 10240) x (10240 x 10240)\n",
      "CUDA without shared memory: 0.266 s\n",
      "CUDA with shared memory   : 0.033 s\n",
      "NumPy dot product         : 7.501 s\n",
      "(11264 x 11264) x (11264 x 11264)\n",
      "CUDA without shared memory: 0.294 s\n",
      "CUDA with shared memory   : 0.033 s\n",
      "NumPy dot product         : 9.964 s\n"
     ]
    }
   ],
   "source": [
    "import numpy as np\n",
    "from numba import cuda\n",
    "import numba\n",
    "from timeit import default_timer as timer\n",
    "from numba import float32\n",
    "\n",
    "bpg = 32\n",
    "tpb = 32\n",
    "\n",
    "res = []\n",
    "\n",
    "for i in range(1, 12):\n",
    "\n",
    "    n = bpg * tpb * i\n",
    "\n",
    "    shared_mem_size = (tpb, tpb)\n",
    "    griddim = bpg, bpg\n",
    "    blockdim = tpb, tpb\n",
    "\n",
    "    @numba.cuda.jit(\"void(float32[:,:], float32[:,:], float32[:,:])\")\n",
    "    def naive_matrix_mult(A, B, C):\n",
    "        x, y = cuda.grid(2)\n",
    "        if x >= n or y >= n:\n",
    "            return\n",
    "\n",
    "        C[y, x] = 0\n",
    "        for i in range(n):\n",
    "            C[y, x] += A[y, i] * B[i, x]\n",
    "\n",
    "\n",
    "    @numba.cuda.jit(\"void(float32[:,:], float32[:,:], float32[:,:])\")\n",
    "    def optimized_matrix_mult(A, B, C):\n",
    "\n",
    "        # Declare shared memory\n",
    "        sA = cuda.shared.array(shape=shared_mem_size, dtype=float32)\n",
    "        sB = cuda.shared.array(shape=shared_mem_size, dtype=float32)\n",
    "\n",
    "        tx = cuda.threadIdx.x\n",
    "        ty = cuda.threadIdx.y\n",
    "        x, y = cuda.grid(2)\n",
    "\n",
    "        acc = 0\n",
    "        for i in range(bpg):\n",
    "            if x < n and y < n:\n",
    "                # Prefill cache\n",
    "                sA[ty, tx] = A[y, tx + i * tpb]\n",
    "                sB[ty, tx] = B[ty + i * tpb, x]\n",
    "\n",
    "            # Synchronize all threads in the block\n",
    "            cuda.syncthreads()\n",
    "\n",
    "            if x < n and y < n:\n",
    "                # Compute product\n",
    "                for j in range(tpb):\n",
    "                    acc += sA[ty, j] * sB[j, tx]\n",
    "\n",
    "            # Wait until all threads finish the computation\n",
    "            cuda.syncthreads()\n",
    "\n",
    "        if x < n and y < n:\n",
    "            C[y, x] = acc\n",
    "\n",
    "\n",
    "    # Prepare data on the CPU\n",
    "    A = np.array(np.random.random((n, n)), dtype=np.float32)\n",
    "    B = np.array(np.random.random((n, n)), dtype=np.float32)\n",
    "\n",
    "    print(\"(%d x %d) x (%d x %d)\" % (n, n, n, n))\n",
    "\n",
    "    # Prepare data on the GPU\n",
    "    dA = cuda.to_device(A)\n",
    "    dB = cuda.to_device(B)\n",
    "    dC = cuda.device_array_like(A)\n",
    "\n",
    "    # Time the unoptimized version\n",
    "    s = timer()\n",
    "    naive_matrix_mult[griddim, blockdim](dA, dB, dC)\n",
    "    numba.cuda.synchronize()\n",
    "    e = timer()\n",
    "    unopt_ans = dC.copy_to_host()\n",
    "    tcuda_unopt = e - s\n",
    "\n",
    "    # Time the optimized version\n",
    "    s = timer()\n",
    "    optimized_matrix_mult[griddim, blockdim](dA, dB, dC)\n",
    "    numba.cuda.synchronize()\n",
    "    e = timer()\n",
    "    opt_ans = dC.copy_to_host()\n",
    "    tcuda_opt = e - s\n",
    "\n",
    "    print(\"CUDA without shared memory:\", \"%.3f\" % tcuda_unopt, \"s\")\n",
    "    print(\"CUDA with shared memory   :\", \"%.3f\" % tcuda_opt, \"s\")\n",
    "\n",
    "    s = timer()\n",
    "    np.dot(A,B)\n",
    "    e = timer()\n",
    "    npt=e-s\n",
    "    print(\"NumPy dot product         :\", \"%.3f\" % npt, \"s\")\n",
    "    \n",
    "    res.append((n, npt, tcuda_opt))"
   ]
  },
  {
   "cell_type": "code",
   "execution_count": 25,
   "metadata": {},
   "outputs": [
    {
     "data": {
      "text/html": [
       "<div>\n",
       "<style>\n",
       "    .dataframe thead tr:only-child th {\n",
       "        text-align: right;\n",
       "    }\n",
       "\n",
       "    .dataframe thead th {\n",
       "        text-align: left;\n",
       "    }\n",
       "\n",
       "    .dataframe tbody tr th {\n",
       "        vertical-align: top;\n",
       "    }\n",
       "</style>\n",
       "<table border=\"1\" class=\"dataframe\">\n",
       "  <thead>\n",
       "    <tr style=\"text-align: right;\">\n",
       "      <th>n</th>\n",
       "      <th>1024</th>\n",
       "      <th>2048</th>\n",
       "      <th>3072</th>\n",
       "      <th>4096</th>\n",
       "      <th>5120</th>\n",
       "      <th>6144</th>\n",
       "      <th>7168</th>\n",
       "      <th>8192</th>\n",
       "      <th>9216</th>\n",
       "      <th>10240</th>\n",
       "      <th>11264</th>\n",
       "    </tr>\n",
       "  </thead>\n",
       "  <tbody>\n",
       "    <tr>\n",
       "      <th>numpy</th>\n",
       "      <td>0.025242</td>\n",
       "      <td>0.075213</td>\n",
       "      <td>0.299228</td>\n",
       "      <td>0.691480</td>\n",
       "      <td>1.162228</td>\n",
       "      <td>1.969397</td>\n",
       "      <td>2.573967</td>\n",
       "      <td>4.518021</td>\n",
       "      <td>5.159562</td>\n",
       "      <td>7.501283</td>\n",
       "      <td>9.963656</td>\n",
       "    </tr>\n",
       "    <tr>\n",
       "      <th>cuda</th>\n",
       "      <td>0.045915</td>\n",
       "      <td>0.044266</td>\n",
       "      <td>0.039608</td>\n",
       "      <td>0.033963</td>\n",
       "      <td>0.034011</td>\n",
       "      <td>0.034069</td>\n",
       "      <td>0.036563</td>\n",
       "      <td>0.032611</td>\n",
       "      <td>0.033438</td>\n",
       "      <td>0.032837</td>\n",
       "      <td>0.033399</td>\n",
       "    </tr>\n",
       "  </tbody>\n",
       "</table>\n",
       "</div>"
      ],
      "text/plain": [
       "n         1024      2048      3072      4096      5120      6144      7168   \\\n",
       "numpy  0.025242  0.075213  0.299228  0.691480  1.162228  1.969397  2.573967   \n",
       "cuda   0.045915  0.044266  0.039608  0.033963  0.034011  0.034069  0.036563   \n",
       "\n",
       "n         8192      9216      10240     11264  \n",
       "numpy  4.518021  5.159562  7.501283  9.963656  \n",
       "cuda   0.032611  0.033438  0.032837  0.033399  "
      ]
     },
     "execution_count": 25,
     "metadata": {},
     "output_type": "execute_result"
    }
   ],
   "source": [
    "df = pd.DataFrame(res, columns=['n', 'numpy', 'cuda']).set_index('n')\n",
    "df.T"
   ]
  },
  {
   "cell_type": "code",
   "execution_count": 26,
   "metadata": {},
   "outputs": [
    {
     "data": {
      "text/plain": [
       "(0, 10.460576197530838)"
      ]
     },
     "execution_count": 26,
     "metadata": {},
     "output_type": "execute_result"
    },
    {
     "data": {
      "image/png": "[encoded data removed]",
      "text/plain": [
       "<matplotlib.figure.Figure at 0x1fb616b7518>"
      ]
     },
     "metadata": {},
     "output_type": "display_data"
    }
   ],
   "source": [
    "fig, ax = plt.subplots()\n",
    "df.plot(ax=ax)\n",
    "plt.ylabel('time (s)')\n",
    "ax.set_ylim(0)"
   ]
  },
  {
   "cell_type": "code",
   "execution_count": 27,
   "metadata": {},
   "outputs": [
    {
     "name": "stdout",
     "output_type": "stream",
     "text": [
      "<CUDA device 0 'b'GeForce GTX 1060''>\n"
     ]
    }
   ],
   "source": [
    "device = cuda.get_current_device()\n",
    "print(device)"
   ]
  }
 ],
 "metadata": {
  "kernelspec": {
   "display_name": "Python 3",
   "language": "python",
   "name": "python3"
  },
  "language_info": {
   "codemirror_mode": {
    "name": "ipython",
    "version": 3
   },
   "file_extension": ".py",
   "mimetype": "text/x-python",
   "name": "python",
   "nbconvert_exporter": "python",
   "pygments_lexer": "ipython3",
   "version": "3.6.1"
  }
 },
 "nbformat": 4,
 "nbformat_minor": 2
}
